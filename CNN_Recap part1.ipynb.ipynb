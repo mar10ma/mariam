{
  "cells": [
    {
      "cell_type": "code",
      "execution_count": 1,
      "metadata": {
        "id": "1DYuYm28jN65"
      },
      "outputs": [],
      "source": [
        "import torch\n",
        "import torch.nn as nn\n",
        "import torch.optim as optim\n",
        "import torchvision\n",
        "import torchvision.transforms as transforms\n",
        "import matplotlib.pyplot as plt"
      ]
    },
    {
      "cell_type": "code",
      "execution_count": null,
      "metadata": {},
      "outputs": [],
      "source": [
        "# Device configuration\n",
        "device = torch.device(\"cuda\" if torch.cuda.is_available() else \"cpu\")"
      ]
    },
    {
      "cell_type": "code",
      "execution_count": 2,
      "metadata": {
        "id": "F2KDueTAloih"
      },
      "outputs": [],
      "source": [
        "# 1. Data Loading and Preprocessing\n",
        "# Define a transform to convert images to tensors.\n",
        "transform = transforms.Compose([\n",
        "    transforms.ToTensor(),\n",
        "    # Optionally, add normalization:\n",
        "    transforms.Normalize((0.5, 0.5, 0.5), (0.5, 0.5, 0.5))\n",
        "])"
      ]
    },
    {
      "cell_type": "code",
      "execution_count": 3,
      "metadata": {
        "colab": {
          "base_uri": "https://localhost:8080/"
        },
        "id": "ggMNA-iilr8V",
        "outputId": "8d7604a0-e360-4605-a4f5-b842fa22395b"
      },
      "outputs": [
        {
          "name": "stdout",
          "output_type": "stream",
          "text": [
            "Downloading https://www.cs.toronto.edu/~kriz/cifar-10-python.tar.gz to ./data/cifar-10-python.tar.gz\n"
          ]
        },
        {
          "name": "stderr",
          "output_type": "stream",
          "text": [
            "100%|██████████| 170M/170M [00:11<00:00, 14.7MB/s]\n"
          ]
        },
        {
          "name": "stdout",
          "output_type": "stream",
          "text": [
            "Extracting ./data/cifar-10-python.tar.gz to ./data\n",
            "Files already downloaded and verified\n"
          ]
        }
      ],
      "source": [
        "# Download and load the CIFAR-10 training and test datasets.\n",
        "trainset = torchvision.datasets.CIFAR10(root='./data', train=True,\n",
        "                                        download=True, transform=transform)\n",
        "\n",
        "testset = torchvision.datasets.CIFAR10(root='./data', train=False,\n",
        "                                       download=True, transform=transform)\n"
      ]
    },
    {
      "cell_type": "code",
      "execution_count": 4,
      "metadata": {
        "id": "GY9oOqfXl286"
      },
      "outputs": [],
      "source": [
        "trainloader = torch.utils.data.DataLoader(trainset, batch_size=32,\n",
        "                                          shuffle=True, num_workers=2)\n",
        "testloader = torch.utils.data.DataLoader(testset, batch_size=32,\n",
        "                                         shuffle=False, num_workers=2)"
      ]
    },
    {
      "cell_type": "code",
      "execution_count": 10,
      "metadata": {
        "id": "fXGxrEG2mDP8"
      },
      "outputs": [],
      "source": [
        "# 2. Define the CNN Model\n",
        "# Here we subclass nn.Module to define a simple CNN with two convolutional layers,\n",
        "# pooling, and two fully-connected layers.\n",
        "class SimpleCNN(nn.Module):\n",
        "    def __init__(self):\n",
        "        super().__init__()\n",
        "        # Convolutional layer 1: from 3 input channels to 32 output channels\n",
        "        self.conv1 = nn.Conv2d(in_channels=3, out_channels=32, kernel_size=3, padding=1)\n",
        "        # Activation (ReLU) and pooling follow\n",
        "        self.relu = nn.ReLU()\n",
        "        self.pool = nn.MaxPool2d(kernel_size=2, stride=2)\n",
        "        # Convolutional layer 2: from 32 channels to 64 channels\n",
        "        self.conv2 = nn.Conv2d(in_channels=32, out_channels=64, kernel_size=3, padding=1)\n",
        "        # A fully connected layer that takes the flattened features.\n",
        "        # For CIFAR-10 images of size 32x32, after two poolings (each halving dimensions),\n",
        "        # the spatial size becomes 8x8, and with 64 channels, that gives 64*8*8 = 4096 features.\n",
        "        self.fc1 = nn.Linear(64 * 8 * 8, 512)\n",
        "        self.fc2 = nn.Linear(512, 10)  # 10 output classes\n",
        "\n",
        "    def forward(self, x):\n",
        "        # First conv layer + activation + pooling.\n",
        "        x = self.pool(self.relu(self.conv1(x)))\n",
        "        # Second conv layer + activation + pooling.\n",
        "        x = self.pool(self.relu(self.conv2(x)))\n",
        "        # Flatten the feature map to a vector\n",
        "        x = x.view(x.size(0), -1)\n",
        "        # Fully connected layers with activation\n",
        "        x = self.relu(self.fc1(x))\n",
        "        # Final fully connected layer (logits output)\n",
        "        x = self.fc2(x)\n",
        "        return x"
      ]
    }
  ],
  "metadata": {
    "colab": {
      "provenance": []
    },
    "kernelspec": {
      "display_name": "Python 3",
      "name": "python3"
    },
    "language_info": {
      "name": "python"
    }
  },
  "nbformat": 4,
  "nbformat_minor": 0
}
